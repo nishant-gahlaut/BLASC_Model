{
  "nbformat": 4,
  "nbformat_minor": 0,
  "metadata": {
    "kernelspec": {
      "name": "python3",
      "display_name": "Python 3"
    },
    "language_info": {
      "codemirror_mode": {
        "name": "ipython",
        "version": 3
      },
      "file_extension": ".py",
      "mimetype": "text/x-python",
      "name": "python",
      "nbconvert_exporter": "python",
      "pygments_lexer": "ipython3",
      "version": "3.6.3"
    },
    "toc": {
      "base_numbering": 1,
      "nav_menu": {},
      "number_sections": true,
      "sideBar": true,
      "skip_h1_title": false,
      "title_cell": "Table of Contents",
      "title_sidebar": "Contents",
      "toc_cell": false,
      "toc_position": {},
      "toc_section_display": true,
      "toc_window_display": false
    },
    "colab": {
      "name": "BLASC.ipynb",
      "provenance": [],
      "collapsed_sections": [],
      "machine_shape": "hm",
      "include_colab_link": true
    }
  },
  "cells": [
    {
      "cell_type": "markdown",
      "metadata": {
        "id": "view-in-github",
        "colab_type": "text"
      },
      "source": [
        "<a href=\"https://colab.research.google.com/github/hardikjh/BLASC/blob/main/BLASC.ipynb\" target=\"_parent\"><img src=\"https://colab.research.google.com/assets/colab-badge.svg\" alt=\"Open In Colab\"/></a>"
      ]
    },
    {
      "cell_type": "code",
      "metadata": {
        "id": "3wvhf9cM8Aru",
        "colab": {
          "base_uri": "https://localhost:8080/",
          "height": 50
        },
        "outputId": "0465941e-456d-4635-a8ae-30057fca9884"
      },
      "source": [
        "%tensorflow_version 1.x\n",
        "%matplotlib inline\n",
        "\n",
        "import pandas as pd\n",
        "import numpy as np\n",
        "import matplotlib.pyplot as plt\n",
        "import seaborn as sns\n",
        "from sklearn.preprocessing import MinMaxScaler\n",
        "from sklearn.model_selection import train_test_split\n",
        "from __future__ import print_function\n",
        "import datetime, time, json\n",
        "import itertools\n",
        "import pickle\n",
        "\n",
        "\n",
        "from keras.models import Model\n",
        "from keras.layers import Input, Bidirectional, LSTM, dot, Flatten, Dense, Reshape, add, Dropout, BatchNormalization\n",
        "from keras.layers.embeddings import Embedding\n",
        "from keras.regularizers import l2\n",
        "from keras.callbacks import Callback, ModelCheckpoint\n",
        "from keras import backend as K"
      ],
      "execution_count": null,
      "outputs": [
        {
          "output_type": "stream",
          "text": [
            "TensorFlow 1.x selected.\n"
          ],
          "name": "stdout"
        },
        {
          "output_type": "stream",
          "text": [
            "Using TensorFlow backend.\n"
          ],
          "name": "stderr"
        }
      ]
    },
    {
      "cell_type": "code",
      "metadata": {
        "id": "FhbKa1gSm-ik"
      },
      "source": [
        "# Structuring data in tabular form\n",
        "_a=pd.read_table('data/appl_pair_shuffle.fa', sep='>', names=('A', 'B'))\n",
        "_b=pd.concat([_a['A'].dropna().reset_index(drop=True), _a['B'].dropna().reset_index(drop=True)], axis=1)\n",
        "right=_b.iloc[1::2].reset_index(drop=True)\n",
        "left=_b.iloc[::2].reset_index(drop=True)\n",
        "left_right_df=pd.merge(left, right, on='B').rename(columns={'A_x':'left','A_y':'right','B':'id'})"
      ],
      "execution_count": null,
      "outputs": []
    },
    {
      "cell_type": "code",
      "metadata": {
        "id": "qTwWlhVgcQSo",
        "colab": {
          "base_uri": "https://localhost:8080/",
          "height": 415
        },
        "outputId": "ec236308-40a2-4bf3-83d2-c8a5f9eff564"
      },
      "source": [
        "# left & right columns have respective sequences for which distance will be calculated. id has respective sequence ID's which are to be compared\n",
        "left_right_df"
      ],
      "execution_count": null,
      "outputs": [
        {
          "output_type": "execute_result",
          "data": {
            "text/html": [
              "<div>\n",
              "<style scoped>\n",
              "    .dataframe tbody tr th:only-of-type {\n",
              "        vertical-align: middle;\n",
              "    }\n",
              "\n",
              "    .dataframe tbody tr th {\n",
              "        vertical-align: top;\n",
              "    }\n",
              "\n",
              "    .dataframe thead th {\n",
              "        text-align: right;\n",
              "    }\n",
              "</style>\n",
              "<table border=\"1\" class=\"dataframe\">\n",
              "  <thead>\n",
              "    <tr style=\"text-align: right;\">\n",
              "      <th></th>\n",
              "      <th>left</th>\n",
              "      <th>id</th>\n",
              "      <th>right</th>\n",
              "    </tr>\n",
              "  </thead>\n",
              "  <tbody>\n",
              "    <tr>\n",
              "      <th>0</th>\n",
              "      <td>atgacccaccaagctcatgcataccacatagtagaccccagccctt...</td>\n",
              "      <td>seq118-seq166</td>\n",
              "      <td>atggccagccttcggaaaacccacccaatcctaaaaattgctaatg...</td>\n",
              "    </tr>\n",
              "    <tr>\n",
              "      <th>1</th>\n",
              "      <td>atgagtctaattataactattatagcaatttcatcggcgttatcga...</td>\n",
              "      <td>seq31-seq230</td>\n",
              "      <td>atgcatagcatccctttactctacacttcaagccttttgttaatac...</td>\n",
              "    </tr>\n",
              "    <tr>\n",
              "      <th>2</th>\n",
              "      <td>atgatactaagcttctttgaccagtttataagcccctcatacctag...</td>\n",
              "      <td>seq72-seq3</td>\n",
              "      <td>atgacccccactcactttacaatttcctcagcctttctgttaggta...</td>\n",
              "    </tr>\n",
              "    <tr>\n",
              "      <th>3</th>\n",
              "      <td>atgctaaaaatcctaattcctactttatttcttctcccaacaacct...</td>\n",
              "      <td>seq200-seq182</td>\n",
              "      <td>atgctaaaaattcttattcctactttatttcttctcccaacaacct...</td>\n",
              "    </tr>\n",
              "    <tr>\n",
              "      <th>4</th>\n",
              "      <td>atgctaaaaatcctaattcctactttatttcttctcccaacaacct...</td>\n",
              "      <td>seq200-seq182</td>\n",
              "      <td>atgctaaaaattcttattcctactttatttcttctcccaacaacct...</td>\n",
              "    </tr>\n",
              "    <tr>\n",
              "      <th>...</th>\n",
              "      <td>...</td>\n",
              "      <td>...</td>\n",
              "      <td>...</td>\n",
              "    </tr>\n",
              "    <tr>\n",
              "      <th>69559</th>\n",
              "      <td>gacctccatattactgaaaggaagccaaaagggatcaattaagtgc...</td>\n",
              "      <td>Amplicon_216-Amplicon_746</td>\n",
              "      <td>acacgtcttcaaagcaagtggattgatgagatatctccactgacgt...</td>\n",
              "    </tr>\n",
              "    <tr>\n",
              "      <th>69560</th>\n",
              "      <td>agatctcctgtcatctcaccttgctcctgccgagaaaagtatccat...</td>\n",
              "      <td>Amplicon_829-Amplicon_291</td>\n",
              "      <td>ttagcctcccgctgcagagcggcagtgtggttggtttcttcgaacg...</td>\n",
              "    </tr>\n",
              "    <tr>\n",
              "      <th>69561</th>\n",
              "      <td>cgcggtttctgatatcgttaaccattacattgagacgtctacagtg...</td>\n",
              "      <td>Amplicon_469-Amplicon_615</td>\n",
              "      <td>ggatctcctgtcatctcaccttgctcctgccgagaaagtatccatc...</td>\n",
              "    </tr>\n",
              "    <tr>\n",
              "      <th>69562</th>\n",
              "      <td>ccacgtcttcaaagcaagtggattgatgtgatatctccactgacgt...</td>\n",
              "      <td>Amplicon_440-Amplicon_50</td>\n",
              "      <td>gaatcctgttgccggtcttgcgatgattatcatataatttctgttg...</td>\n",
              "    </tr>\n",
              "    <tr>\n",
              "      <th>69563</th>\n",
              "      <td>ctcaccttgctcctgccgagaaagtatccatcatggctgatgcaat...</td>\n",
              "      <td>Amplicon_281-Amplicon_726</td>\n",
              "      <td>gctcctacaaatgccatcattgcgataaaggaaaggctatcgttca...</td>\n",
              "    </tr>\n",
              "  </tbody>\n",
              "</table>\n",
              "<p>69564 rows × 3 columns</p>\n",
              "</div>"
            ],
            "text/plain": [
              "                                                    left  ...                                              right\n",
              "0      atgacccaccaagctcatgcataccacatagtagaccccagccctt...  ...  atggccagccttcggaaaacccacccaatcctaaaaattgctaatg...\n",
              "1      atgagtctaattataactattatagcaatttcatcggcgttatcga...  ...  atgcatagcatccctttactctacacttcaagccttttgttaatac...\n",
              "2      atgatactaagcttctttgaccagtttataagcccctcatacctag...  ...  atgacccccactcactttacaatttcctcagcctttctgttaggta...\n",
              "3      atgctaaaaatcctaattcctactttatttcttctcccaacaacct...  ...  atgctaaaaattcttattcctactttatttcttctcccaacaacct...\n",
              "4      atgctaaaaatcctaattcctactttatttcttctcccaacaacct...  ...  atgctaaaaattcttattcctactttatttcttctcccaacaacct...\n",
              "...                                                  ...  ...                                                ...\n",
              "69559  gacctccatattactgaaaggaagccaaaagggatcaattaagtgc...  ...  acacgtcttcaaagcaagtggattgatgagatatctccactgacgt...\n",
              "69560  agatctcctgtcatctcaccttgctcctgccgagaaaagtatccat...  ...  ttagcctcccgctgcagagcggcagtgtggttggtttcttcgaacg...\n",
              "69561  cgcggtttctgatatcgttaaccattacattgagacgtctacagtg...  ...  ggatctcctgtcatctcaccttgctcctgccgagaaagtatccatc...\n",
              "69562  ccacgtcttcaaagcaagtggattgatgtgatatctccactgacgt...  ...  gaatcctgttgccggtcttgcgatgattatcatataatttctgttg...\n",
              "69563  ctcaccttgctcctgccgagaaagtatccatcatggctgatgcaat...  ...  gctcctacaaatgccatcattgcgataaaggaaaggctatcgttca...\n",
              "\n",
              "[69564 rows x 3 columns]"
            ]
          },
          "metadata": {
            "tags": []
          },
          "execution_count": 4
        }
      ]
    },
    {
      "cell_type": "code",
      "metadata": {
        "id": "6ML7FAiVwnCd"
      },
      "source": [
        "left_right_df=left_right_df[~left_right_df.left.str.contains(\"r\", regex=False)]\n",
        "left_right_df=left_right_df[~left_right_df.right.str.contains(\"r\", regex=False)]"
      ],
      "execution_count": null,
      "outputs": []
    },
    {
      "cell_type": "code",
      "metadata": {
        "id": "dpXoHERCm-e6"
      },
      "source": [
        "distance_df=pd.read_table('../MTP_data/appl_dist_shuffle.txt', sep='\\t', names=('id', 'distance'))\n",
        "final_df=pd.merge(left_right_df, distance_df, on='id')"
      ],
      "execution_count": null,
      "outputs": []
    },
    {
      "cell_type": "code",
      "metadata": {
        "id": "J6qR1a3Wcw9Y"
      },
      "source": [
        "final_df=final_df.drop_duplicates()"
      ],
      "execution_count": null,
      "outputs": []
    },
    {
      "cell_type": "code",
      "metadata": {
        "id": "ZleW7uDc6mO5",
        "colab": {
          "base_uri": "https://localhost:8080/",
          "height": 415
        },
        "outputId": "9cd746ec-af97-4c89-e92a-ce04d2ce95d8"
      },
      "source": [
        "#dataframe with sequences and target value (distance)\n",
        "final_df"
      ],
      "execution_count": null,
      "outputs": [
        {
          "output_type": "execute_result",
          "data": {
            "text/html": [
              "<div>\n",
              "<style scoped>\n",
              "    .dataframe tbody tr th:only-of-type {\n",
              "        vertical-align: middle;\n",
              "    }\n",
              "\n",
              "    .dataframe tbody tr th {\n",
              "        vertical-align: top;\n",
              "    }\n",
              "\n",
              "    .dataframe thead th {\n",
              "        text-align: right;\n",
              "    }\n",
              "</style>\n",
              "<table border=\"1\" class=\"dataframe\">\n",
              "  <thead>\n",
              "    <tr style=\"text-align: right;\">\n",
              "      <th></th>\n",
              "      <th>left</th>\n",
              "      <th>id</th>\n",
              "      <th>right</th>\n",
              "      <th>distance</th>\n",
              "    </tr>\n",
              "  </thead>\n",
              "  <tbody>\n",
              "    <tr>\n",
              "      <th>0</th>\n",
              "      <td>atgacccaccaagctcatgcataccacatagtagaccccagccctt...</td>\n",
              "      <td>seq118-seq166</td>\n",
              "      <td>atggccagccttcggaaaacccacccaatcctaaaaattgctaatg...</td>\n",
              "      <td>0.5395</td>\n",
              "    </tr>\n",
              "    <tr>\n",
              "      <th>1</th>\n",
              "      <td>atgagtctaattataactattatagcaatttcatcggcgttatcga...</td>\n",
              "      <td>seq31-seq230</td>\n",
              "      <td>atgcatagcatccctttactctacacttcaagccttttgttaatac...</td>\n",
              "      <td>0.5987</td>\n",
              "    </tr>\n",
              "    <tr>\n",
              "      <th>2</th>\n",
              "      <td>atgatactaagcttctttgaccagtttataagcccctcatacctag...</td>\n",
              "      <td>seq72-seq3</td>\n",
              "      <td>atgacccccactcactttacaatttcctcagcctttctgttaggta...</td>\n",
              "      <td>0.5473</td>\n",
              "    </tr>\n",
              "    <tr>\n",
              "      <th>3</th>\n",
              "      <td>atgctaaaaatcctaattcctactttatttcttctcccaacaacct...</td>\n",
              "      <td>seq200-seq182</td>\n",
              "      <td>atgctaaaaattcttattcctactttatttcttctcccaacaacct...</td>\n",
              "      <td>0.1523</td>\n",
              "    </tr>\n",
              "    <tr>\n",
              "      <th>11</th>\n",
              "      <td>atggcacacccctcacaactaggattccaagacgcggcatcacccg...</td>\n",
              "      <td>seq87-seq140</td>\n",
              "      <td>atggcccacgttgtgattagttatattcttaaccccctcatttata...</td>\n",
              "      <td>0.5801</td>\n",
              "    </tr>\n",
              "    <tr>\n",
              "      <th>...</th>\n",
              "      <td>...</td>\n",
              "      <td>...</td>\n",
              "      <td>...</td>\n",
              "      <td>...</td>\n",
              "    </tr>\n",
              "    <tr>\n",
              "      <th>99563</th>\n",
              "      <td>gacctccatattactgaaaggaagccaaaagggatcaattaagtgc...</td>\n",
              "      <td>Amplicon_216-Amplicon_746</td>\n",
              "      <td>acacgtcttcaaagcaagtggattgatgagatatctccactgacgt...</td>\n",
              "      <td>0.5855</td>\n",
              "    </tr>\n",
              "    <tr>\n",
              "      <th>99564</th>\n",
              "      <td>agatctcctgtcatctcaccttgctcctgccgagaaaagtatccat...</td>\n",
              "      <td>Amplicon_829-Amplicon_291</td>\n",
              "      <td>ttagcctcccgctgcagagcggcagtgtggttggtttcttcgaacg...</td>\n",
              "      <td>0.6964</td>\n",
              "    </tr>\n",
              "    <tr>\n",
              "      <th>99565</th>\n",
              "      <td>cgcggtttctgatatcgttaaccattacattgagacgtctacagtg...</td>\n",
              "      <td>Amplicon_469-Amplicon_615</td>\n",
              "      <td>ggatctcctgtcatctcaccttgctcctgccgagaaagtatccatc...</td>\n",
              "      <td>0.6398</td>\n",
              "    </tr>\n",
              "    <tr>\n",
              "      <th>99566</th>\n",
              "      <td>ccacgtcttcaaagcaagtggattgatgtgatatctccactgacgt...</td>\n",
              "      <td>Amplicon_440-Amplicon_50</td>\n",
              "      <td>gaatcctgttgccggtcttgcgatgattatcatataatttctgttg...</td>\n",
              "      <td>0.6190</td>\n",
              "    </tr>\n",
              "    <tr>\n",
              "      <th>99567</th>\n",
              "      <td>ctcaccttgctcctgccgagaaagtatccatcatggctgatgcaat...</td>\n",
              "      <td>Amplicon_281-Amplicon_726</td>\n",
              "      <td>gctcctacaaatgccatcattgcgataaaggaaaggctatcgttca...</td>\n",
              "      <td>0.5141</td>\n",
              "    </tr>\n",
              "  </tbody>\n",
              "</table>\n",
              "<p>52703 rows × 4 columns</p>\n",
              "</div>"
            ],
            "text/plain": [
              "                                                    left  ... distance\n",
              "0      atgacccaccaagctcatgcataccacatagtagaccccagccctt...  ...   0.5395\n",
              "1      atgagtctaattataactattatagcaatttcatcggcgttatcga...  ...   0.5987\n",
              "2      atgatactaagcttctttgaccagtttataagcccctcatacctag...  ...   0.5473\n",
              "3      atgctaaaaatcctaattcctactttatttcttctcccaacaacct...  ...   0.1523\n",
              "11     atggcacacccctcacaactaggattccaagacgcggcatcacccg...  ...   0.5801\n",
              "...                                                  ...  ...      ...\n",
              "99563  gacctccatattactgaaaggaagccaaaagggatcaattaagtgc...  ...   0.5855\n",
              "99564  agatctcctgtcatctcaccttgctcctgccgagaaaagtatccat...  ...   0.6964\n",
              "99565  cgcggtttctgatatcgttaaccattacattgagacgtctacagtg...  ...   0.6398\n",
              "99566  ccacgtcttcaaagcaagtggattgatgtgatatctccactgacgt...  ...   0.6190\n",
              "99567  ctcaccttgctcctgccgagaaagtatccatcatggctgatgcaat...  ...   0.5141\n",
              "\n",
              "[52703 rows x 4 columns]"
            ]
          },
          "metadata": {
            "tags": []
          },
          "execution_count": 8
        }
      ]
    },
    {
      "cell_type": "code",
      "metadata": {
        "id": "y47gTtyry4c_",
        "colab": {
          "base_uri": "https://localhost:8080/",
          "height": 283
        },
        "outputId": "1a96d1ae-eb86-446c-84dd-1b29e568ec9c"
      },
      "source": [
        "final_df.distance.hist()"
      ],
      "execution_count": null,
      "outputs": [
        {
          "output_type": "execute_result",
          "data": {
            "text/plain": [
              "<matplotlib.axes._subplots.AxesSubplot at 0x7f5e33539eb8>"
            ]
          },
          "metadata": {
            "tags": []
          },
          "execution_count": 9
        },
        {
          "output_type": "display_data",
          "data": {
            "image/png": "[encoded data removed]",
            "text/plain": [
              "<Figure size 432x288 with 1 Axes>"
            ]
          },
          "metadata": {
            "tags": [],
            "needs_background": "light"
          }
        }
      ]
    },
    {
      "cell_type": "code",
      "metadata": {
        "id": "GJtpdsQ97uEK"
      },
      "source": [
        "final_df.reset_index(drop=True,inplace=True)"
      ],
      "execution_count": null,
      "outputs": []
    },
    {
      "cell_type": "code",
      "metadata": {
        "id": "Bxn2BJ7j4XGz",
        "colab": {
          "base_uri": "https://localhost:8080/",
          "height": 202
        },
        "outputId": "fa0b61fe-6b10-4590-a111-cba83bcc5f01"
      },
      "source": [
        "vocabulary = {'a':1,'g':2,'c':3,'t':4}\n",
        "\n",
        "final_df['left']=final_df['left'].apply(lambda x: [vocabulary[nucleotide] for nucleotide in list(x)])\n",
        "final_df['right']=final_df['right'].apply(lambda x: [vocabulary[nucleotide] for nucleotide in list(x)])\n",
        "final_df.head()"
      ],
      "execution_count": null,
      "outputs": [
        {
          "output_type": "execute_result",
          "data": {
            "text/html": [
              "<div>\n",
              "<style scoped>\n",
              "    .dataframe tbody tr th:only-of-type {\n",
              "        vertical-align: middle;\n",
              "    }\n",
              "\n",
              "    .dataframe tbody tr th {\n",
              "        vertical-align: top;\n",
              "    }\n",
              "\n",
              "    .dataframe thead th {\n",
              "        text-align: right;\n",
              "    }\n",
              "</style>\n",
              "<table border=\"1\" class=\"dataframe\">\n",
              "  <thead>\n",
              "    <tr style=\"text-align: right;\">\n",
              "      <th></th>\n",
              "      <th>left</th>\n",
              "      <th>id</th>\n",
              "      <th>right</th>\n",
              "      <th>distance</th>\n",
              "    </tr>\n",
              "  </thead>\n",
              "  <tbody>\n",
              "    <tr>\n",
              "      <th>0</th>\n",
              "      <td>[1, 4, 2, 1, 3, 3, 3, 1, 3, 3, 1, 1, 2, 3, 4, ...</td>\n",
              "      <td>seq118-seq166</td>\n",
              "      <td>[1, 4, 2, 2, 3, 3, 1, 2, 3, 3, 4, 4, 3, 2, 2, ...</td>\n",
              "      <td>0.5395</td>\n",
              "    </tr>\n",
              "    <tr>\n",
              "      <th>1</th>\n",
              "      <td>[1, 4, 2, 1, 2, 4, 3, 4, 1, 1, 4, 4, 1, 4, 1, ...</td>\n",
              "      <td>seq31-seq230</td>\n",
              "      <td>[1, 4, 2, 3, 1, 4, 1, 2, 3, 1, 4, 3, 3, 3, 4, ...</td>\n",
              "      <td>0.5987</td>\n",
              "    </tr>\n",
              "    <tr>\n",
              "      <th>2</th>\n",
              "      <td>[1, 4, 2, 1, 4, 1, 3, 4, 1, 1, 2, 3, 4, 4, 3, ...</td>\n",
              "      <td>seq72-seq3</td>\n",
              "      <td>[1, 4, 2, 1, 3, 3, 3, 3, 3, 1, 3, 4, 3, 1, 3, ...</td>\n",
              "      <td>0.5473</td>\n",
              "    </tr>\n",
              "    <tr>\n",
              "      <th>3</th>\n",
              "      <td>[1, 4, 2, 3, 4, 1, 1, 1, 1, 1, 4, 3, 3, 4, 1, ...</td>\n",
              "      <td>seq200-seq182</td>\n",
              "      <td>[1, 4, 2, 3, 4, 1, 1, 1, 1, 1, 4, 4, 3, 4, 4, ...</td>\n",
              "      <td>0.1523</td>\n",
              "    </tr>\n",
              "    <tr>\n",
              "      <th>4</th>\n",
              "      <td>[1, 4, 2, 2, 3, 1, 3, 1, 3, 3, 3, 3, 4, 3, 1, ...</td>\n",
              "      <td>seq87-seq140</td>\n",
              "      <td>[1, 4, 2, 2, 3, 3, 3, 1, 3, 2, 4, 4, 2, 4, 2, ...</td>\n",
              "      <td>0.5801</td>\n",
              "    </tr>\n",
              "  </tbody>\n",
              "</table>\n",
              "</div>"
            ],
            "text/plain": [
              "                                                left  ... distance\n",
              "0  [1, 4, 2, 1, 3, 3, 3, 1, 3, 3, 1, 1, 2, 3, 4, ...  ...   0.5395\n",
              "1  [1, 4, 2, 1, 2, 4, 3, 4, 1, 1, 4, 4, 1, 4, 1, ...  ...   0.5987\n",
              "2  [1, 4, 2, 1, 4, 1, 3, 4, 1, 1, 2, 3, 4, 4, 3, ...  ...   0.5473\n",
              "3  [1, 4, 2, 3, 4, 1, 1, 1, 1, 1, 4, 3, 3, 4, 1, ...  ...   0.1523\n",
              "4  [1, 4, 2, 2, 3, 1, 3, 1, 3, 3, 3, 3, 4, 3, 1, ...  ...   0.5801\n",
              "\n",
              "[5 rows x 4 columns]"
            ]
          },
          "metadata": {
            "tags": []
          },
          "execution_count": 11
        }
      ]
    },
    {
      "cell_type": "code",
      "metadata": {
        "id": "vokw1i9m05H_"
      },
      "source": [
        "scaler = MinMaxScaler()\n",
        "final_df.distance=pd.DataFrame(scaler.fit_transform(final_df.distance.values.reshape(-1,1)), columns=['distance'])"
      ],
      "execution_count": null,
      "outputs": []
    },
    {
      "cell_type": "code",
      "metadata": {
        "id": "acNjO_0vV_Be"
      },
      "source": [
        "#creating a pickle for scaler to be used later (for generating Bootstrap trees)\n",
        "with open('../MTP_data/Bootstrap/applications_scaler.pickle', 'wb') as f:\n",
        "    pickle.dump(scaler, f)\n"
      ],
      "execution_count": null,
      "outputs": []
    },
    {
      "cell_type": "code",
      "metadata": {
        "id": "tS0NUivn8Ar6"
      },
      "source": [
        "#Creating embedding matrix\n",
        "\n",
        "sequence_cols = ['left', 'right']\n",
        "           \n",
        "embedding_dim = 4\n",
        "embeddings = 1 * np.random.randn(len(vocabulary) + 1, embedding_dim)  # This will be the embedding matrix\n",
        "embeddings[0] = 0  # So that the padding will be ignored\n",
        "\n",
        "embeddings[1]=[1,0,0,0]\n",
        "embeddings[2]=[0,1,0,0]\n",
        "embeddings[3]=[0,0,1,0]\n",
        "embeddings[4]=[0,0,0,1]"
      ],
      "execution_count": null,
      "outputs": []
    },
    {
      "cell_type": "code",
      "metadata": {
        "id": "YCdhrW_JfFqx",
        "colab": {
          "base_uri": "https://localhost:8080/",
          "height": 104
        },
        "outputId": "1dc137b8-6b2b-4e8d-f194-63e4b25be790"
      },
      "source": [
        "embeddings"
      ],
      "execution_count": null,
      "outputs": [
        {
          "output_type": "execute_result",
          "data": {
            "text/plain": [
              "array([[0., 0., 0., 0.],\n",
              "       [1., 0., 0., 0.],\n",
              "       [0., 1., 0., 0.],\n",
              "       [0., 0., 1., 0.],\n",
              "       [0., 0., 0., 1.]])"
            ]
          },
          "metadata": {
            "tags": []
          },
          "execution_count": 29
        }
      ]
    },
    {
      "cell_type": "markdown",
      "metadata": {
        "id": "01wIZSoi8Ar9"
      },
      "source": [
        "# + Preparing **training** and **validation** datasets"
      ]
    },
    {
      "cell_type": "code",
      "metadata": {
        "id": "oxW98x1lU39m"
      },
      "source": [
        "train_df = final_df\n",
        "\n",
        "train_df.left.str.len().max()\n",
        "max_seq_length = train_df.left.str.len().max()"
      ],
      "execution_count": null,
      "outputs": []
    },
    {
      "cell_type": "code",
      "metadata": {
        "id": "GLvi1AYW8Ar_"
      },
      "source": [
        "# Split to train validation\n",
        "validation_size = int(52700*0.3)\n",
        "training_size = len(train_df) - validation_size\n",
        "\n",
        "X = train_df[sequence_cols]\n",
        "Y = train_df['distance']\n",
        "\n",
        "X_train, X_validation, Y_train, Y_validation = train_test_split(X, Y, test_size=validation_size)\n",
        "\n",
        "# Split to dicts\n",
        "X_train = {'left': X_train.left, 'right': X_train.right}\n",
        "X_validation = {'left': X_validation.left, 'right': X_validation.right}\n",
        "\n",
        "# Convert labels to their numpy representations\n",
        "Y_train = Y_train.values\n",
        "Y_validation = Y_validation.values\n",
        "\n",
        "# Zero padding\n",
        "for dataset, side in itertools.product([X_train, X_validation], ['left', 'right']):\n",
        "    dataset[side] = pad_sequences(dataset[side], maxlen=max_seq_length)"
      ],
      "execution_count": null,
      "outputs": []
    },
    {
      "cell_type": "code",
      "metadata": {
        "id": "UZcpZSuQZ-nq",
        "colab": {
          "base_uri": "https://localhost:8080/",
          "height": 35
        },
        "outputId": "2db49e83-747a-4b0a-af06-81f3703707e9"
      },
      "source": [
        "X_train['left'][9].shape"
      ],
      "execution_count": null,
      "outputs": [
        {
          "output_type": "execute_result",
          "data": {
            "text/plain": [
              "(358,)"
            ]
          },
          "metadata": {
            "tags": []
          },
          "execution_count": 32
        }
      ]
    },
    {
      "cell_type": "markdown",
      "metadata": {
        "id": "dqxYy8GR8AsD"
      },
      "source": [
        "# BLASC **Model**"
      ]
    },
    {
      "cell_type": "code",
      "metadata": {
        "id": "cJm2VM9-k_Zu",
        "colab": {
          "base_uri": "https://localhost:8080/",
          "height": 89
        },
        "outputId": "750fdd9b-41a8-457e-ce68-17f9eb72d0ec"
      },
      "source": [
        "#model hyperparameters\n",
        "EMBEDDING_DIM = 12\n",
        "MAX_SEQUENCE_LENGTH=max_seq_length\n",
        "DROPOUT = 0.35\n",
        "NB_EPOCHS=30\n",
        "BATCH_SIZE=100\n",
        "\n",
        "#defining model\n",
        "left_input = Input(shape=(max_seq_length,), dtype='int32')\n",
        "right_input = Input(shape=(max_seq_length,), dtype='int32')\n",
        "\n",
        "embedding_layer = Embedding(len(embeddings), embedding_dim, weights=[embeddings], input_length=max_seq_length, trainable=False)\n",
        "encoded_left = embedding_layer(left_input)\n",
        "encoded_right = embedding_layer(right_input)\n",
        "\n",
        "q1 = Bidirectional(LSTM(EMBEDDING_DIM, return_sequences=True), merge_mode=\"sum\")(encoded_left)\n",
        "\n",
        "q2 = Bidirectional(LSTM(EMBEDDING_DIM, return_sequences=True), merge_mode=\"sum\")(encoded_right)\n",
        "\n",
        "attention = dot([q1,q2], [1,1])\n",
        "attention = Flatten()(attention)\n",
        "attention = Dense((MAX_SEQUENCE_LENGTH*EMBEDDING_DIM))(attention)\n",
        "attention = Reshape((MAX_SEQUENCE_LENGTH, EMBEDDING_DIM))(attention)\n",
        "\n",
        "merged = add([q1,attention])\n",
        "merged = Flatten()(merged)\n",
        "merged = Dense(50, activation='relu')(merged)\n",
        "merged = Dropout(DROPOUT)(merged)\n",
        "merged = BatchNormalization()(merged)\n",
        "merged = Dense(50, activation='relu')(merged)\n",
        "merged = Dropout(DROPOUT)(merged)\n",
        "merged = BatchNormalization()(merged)\n",
        "\n",
        "is_duplicate = Dense(1, activation='elu')(merged)\n",
        "\n",
        "model = Model(inputs=[left_input,right_input], outputs=is_duplicate)\n",
        "model.compile(loss='mean_squared_error', optimizer='Nadam', metrics=['mae'])"
      ],
      "execution_count": null,
      "outputs": [
        {
          "output_type": "stream",
          "text": [
            "WARNING:tensorflow:From /tensorflow-1.15.2/python3.6/tensorflow_core/python/ops/resource_variable_ops.py:1630: calling BaseResourceVariable.__init__ (from tensorflow.python.ops.resource_variable_ops) with constraint is deprecated and will be removed in a future version.\n",
            "Instructions for updating:\n",
            "If using Keras pass *_constraint arguments to layers.\n"
          ],
          "name": "stdout"
        }
      ]
    },
    {
      "cell_type": "code",
      "metadata": {
        "id": "sYgYI8N2iteh",
        "colab": {
          "base_uri": "https://localhost:8080/",
          "height": 1000
        },
        "outputId": "4dfebe07-3c19-46ab-e724-550dc93763e1"
      },
      "source": [
        "print(\"Starting training at\", datetime.datetime.now())\n",
        "t0 = time.time()\n",
        "\n",
        "history = model.fit([X_train['left'], X_train['right']],\n",
        "                    Y_train,\n",
        "                    epochs=NB_EPOCHS,\n",
        "                    validation_split=0.1,\n",
        "                    verbose=2,\n",
        "                    batch_size=BATCH_SIZE)\n",
        "\n",
        "t1 = time.time()\n",
        "print(\"Training ended at\", datetime.datetime.now())\n",
        "print(\"Minutes elapsed: %f\" % ((t1 - t0) / 60.))"
      ],
      "execution_count": null,
      "outputs": [
        {
          "output_type": "stream",
          "text": [
            "Starting training at 2020-05-28 15:08:17.852272\n",
            "WARNING:tensorflow:From /usr/local/lib/python3.6/dist-packages/keras/backend/tensorflow_backend.py:422: The name tf.global_variables is deprecated. Please use tf.compat.v1.global_variables instead.\n",
            "\n",
            "Train on 33203 samples, validate on 3690 samples\n",
            "Epoch 1/30\n",
            " - 81s - loss: 0.2175 - mae: 0.3130 - val_loss: 0.0206 - val_mae: 0.0962\n",
            "Epoch 2/30\n",
            " - 78s - loss: 0.0214 - mae: 0.0962 - val_loss: 0.0198 - val_mae: 0.0886\n",
            "Epoch 3/30\n",
            " - 79s - loss: 0.0198 - mae: 0.0882 - val_loss: 0.0193 - val_mae: 0.0897\n",
            "Epoch 4/30\n",
            " - 87s - loss: 0.0192 - mae: 0.0879 - val_loss: 0.0223 - val_mae: 0.1005\n",
            "Epoch 5/30\n",
            " - 89s - loss: 0.0193 - mae: 0.0876 - val_loss: 0.0193 - val_mae: 0.0761\n",
            "Epoch 6/30\n",
            " - 100s - loss: 0.0186 - mae: 0.0858 - val_loss: 0.0183 - val_mae: 0.0819\n",
            "Epoch 7/30\n",
            " - 98s - loss: 0.0170 - mae: 0.0840 - val_loss: 0.0196 - val_mae: 0.1161\n",
            "Epoch 8/30\n",
            " - 97s - loss: 0.0127 - mae: 0.0739 - val_loss: 0.0093 - val_mae: 0.0656\n",
            "Epoch 9/30\n",
            " - 100s - loss: 0.0108 - mae: 0.0676 - val_loss: 0.0128 - val_mae: 0.0951\n",
            "Epoch 10/30\n",
            " - 96s - loss: 0.0087 - mae: 0.0602 - val_loss: 0.0076 - val_mae: 0.0548\n",
            "Epoch 11/30\n",
            " - 99s - loss: 0.0087 - mae: 0.0603 - val_loss: 0.0075 - val_mae: 0.0507\n",
            "Epoch 12/30\n",
            " - 100s - loss: 0.0072 - mae: 0.0547 - val_loss: 0.0059 - val_mae: 0.0522\n",
            "Epoch 13/30\n",
            " - 97s - loss: 0.0068 - mae: 0.0526 - val_loss: 0.0051 - val_mae: 0.0518\n",
            "Epoch 14/30\n",
            " - 98s - loss: 0.0059 - mae: 0.0493 - val_loss: 0.0034 - val_mae: 0.0383\n",
            "Epoch 15/30\n",
            " - 97s - loss: 0.0053 - mae: 0.0472 - val_loss: 0.0032 - val_mae: 0.0387\n",
            "Epoch 16/30\n",
            " - 99s - loss: 0.0048 - mae: 0.0451 - val_loss: 0.0029 - val_mae: 0.0349\n",
            "Epoch 17/30\n",
            " - 99s - loss: 0.0048 - mae: 0.0453 - val_loss: 0.0051 - val_mae: 0.0490\n",
            "Epoch 18/30\n",
            " - 99s - loss: 0.0049 - mae: 0.0461 - val_loss: 0.0023 - val_mae: 0.0331\n",
            "Epoch 19/30\n",
            " - 100s - loss: 0.0043 - mae: 0.0429 - val_loss: 0.0032 - val_mae: 0.0355\n",
            "Epoch 20/30\n",
            " - 98s - loss: 0.0041 - mae: 0.0418 - val_loss: 0.0052 - val_mae: 0.0523\n",
            "Epoch 21/30\n",
            " - 98s - loss: 0.0039 - mae: 0.0410 - val_loss: 0.0022 - val_mae: 0.0318\n",
            "Epoch 22/30\n",
            " - 100s - loss: 0.0053 - mae: 0.0472 - val_loss: 0.0035 - val_mae: 0.0407\n",
            "Epoch 23/30\n",
            " - 99s - loss: 0.0043 - mae: 0.0434 - val_loss: 0.0213 - val_mae: 0.1144\n",
            "Epoch 24/30\n",
            " - 97s - loss: 0.0048 - mae: 0.0447 - val_loss: 0.0021 - val_mae: 0.0294\n",
            "Epoch 25/30\n",
            " - 102s - loss: 0.0037 - mae: 0.0402 - val_loss: 0.0035 - val_mae: 0.0380\n",
            "Epoch 26/30\n",
            " - 99s - loss: 0.0034 - mae: 0.0388 - val_loss: 0.0034 - val_mae: 0.0444\n",
            "Epoch 27/30\n",
            " - 99s - loss: 0.0036 - mae: 0.0397 - val_loss: 0.0025 - val_mae: 0.0358\n",
            "Epoch 28/30\n",
            " - 98s - loss: 0.0033 - mae: 0.0386 - val_loss: 0.0028 - val_mae: 0.0362\n",
            "Epoch 29/30\n",
            " - 96s - loss: 0.0038 - mae: 0.0404 - val_loss: 0.0025 - val_mae: 0.0333\n",
            "Epoch 30/30\n",
            " - 99s - loss: 0.0032 - mae: 0.0375 - val_loss: 0.0024 - val_mae: 0.0339\n",
            "Training ended at 2020-05-28 15:56:17.392428\n",
            "Minutes elapsed: 47.992330\n"
          ],
          "name": "stdout"
        }
      ]
    },
    {
      "cell_type": "code",
      "metadata": {
        "id": "zjIdZLXIYrM9"
      },
      "source": [
        "# import pickle\n",
        "# with open('applications_model.pickle', 'wb') as f:\n",
        "#     # Pickle the 'data' dictionary using the highest protocol available.\n",
        "#     pickle.dump(model, f)"
      ],
      "execution_count": null,
      "outputs": []
    }
  ]
}